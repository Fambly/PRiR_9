{
  "nbformat": 4,
  "nbformat_minor": 0,
  "metadata": {
    "colab": {
      "provenance": [],
      "authorship_tag": "ABX9TyNZnCbaPh136CEo7jTeVSRF",
      "include_colab_link": true
    },
    "kernelspec": {
      "name": "python3",
      "display_name": "Python 3"
    },
    "language_info": {
      "name": "python"
    },
    "accelerator": "GPU",
    "gpuClass": "standard"
  },
  "cells": [
    {
      "cell_type": "markdown",
      "metadata": {
        "id": "view-in-github",
        "colab_type": "text"
      },
      "source": [
        "<a href=\"https://colab.research.google.com/github/Fambly/PRiR_9/blob/main/Untitled4.ipynb\" target=\"_parent\"><img src=\"https://colab.research.google.com/assets/colab-badge.svg\" alt=\"Open In Colab\"/></a>"
      ]
    },
    {
      "cell_type": "markdown",
      "source": [
        "# **SPRAWOZDANIE**\n",
        "Pierwyszym krokiem aby uruchomić ten notatnik prawidłowo należy udać się do zakładki \"Środowisko wykonawcze\", następnie \"zmień typ środowiska wykonawczego\" i ustawić akcelerator sprzętowy na \"GPU\", następnie klikamy zapisz.\n",
        "\n",
        "W tym momencie powinniśmy mieć ustawione środowisko na kartę graficzną. Kluczowymi krokami jest również pobranie i uruchomienie pewnych dodatków, które sprawią że kod do dalszych zadań zadziała. Wystarczy uruchomić kolejne 2 bloki kodów aby zweryfikować, zainstalować i włączyć te dodatki:\n",
        "\n",
        "*!pip install git+https://github.com/andreinechaev/nvcc4jupyter.git*\n",
        "\n",
        "*%load_ext nvcc_plugin*"
      ],
      "metadata": {
        "id": "NMQiGF2gJ3ob"
      }
    },
    {
      "cell_type": "code",
      "source": [
        "!pip install git+https://github.com/andreinechaev/nvcc4jupyter.git"
      ],
      "metadata": {
        "colab": {
          "base_uri": "https://localhost:8080/"
        },
        "id": "uXQO3ysPHsOb",
        "outputId": "d5380775-b4b6-4db0-fefd-ab568528569e"
      },
      "execution_count": 1,
      "outputs": [
        {
          "output_type": "stream",
          "name": "stdout",
          "text": [
            "Looking in indexes: https://pypi.org/simple, https://us-python.pkg.dev/colab-wheels/public/simple/\n",
            "Collecting git+https://github.com/andreinechaev/nvcc4jupyter.git\n",
            "  Cloning https://github.com/andreinechaev/nvcc4jupyter.git to /tmp/pip-req-build-q5nzbo1g\n",
            "  Running command git clone --filter=blob:none --quiet https://github.com/andreinechaev/nvcc4jupyter.git /tmp/pip-req-build-q5nzbo1g\n",
            "  Resolved https://github.com/andreinechaev/nvcc4jupyter.git to commit aac710a35f52bb78ab34d2e52517237941399eff\n",
            "  Preparing metadata (setup.py) ... \u001b[?25l\u001b[?25hdone\n",
            "Building wheels for collected packages: NVCCPlugin\n",
            "  Building wheel for NVCCPlugin (setup.py) ... \u001b[?25l\u001b[?25hdone\n",
            "  Created wheel for NVCCPlugin: filename=NVCCPlugin-0.0.2-py3-none-any.whl size=4304 sha256=3946f6933b8e8fc962d177c7120eff9fbf73663829a8054e67d5c996fa48c9b5\n",
            "  Stored in directory: /tmp/pip-ephem-wheel-cache-emwqqysy/wheels/f3/08/cc/e2b5b0e1c92df07dbb50a6f024a68ce090f5e7b2316b41756d\n",
            "Successfully built NVCCPlugin\n",
            "Installing collected packages: NVCCPlugin\n",
            "Successfully installed NVCCPlugin-0.0.2\n"
          ]
        }
      ]
    },
    {
      "cell_type": "code",
      "source": [
        "%load_ext nvcc_plugin"
      ],
      "metadata": {
        "colab": {
          "base_uri": "https://localhost:8080/"
        },
        "id": "zgyzYfJJHtna",
        "outputId": "8f7521d8-3575-4177-b555-56a36b9714a6"
      },
      "execution_count": 2,
      "outputs": [
        {
          "output_type": "stream",
          "name": "stdout",
          "text": [
            "created output directory at /content/src\n",
            "Out bin /content/result.out\n"
          ]
        }
      ]
    },
    {
      "cell_type": "markdown",
      "source": [
        "Algorytm **Ray Tracing** na GPU z użyciem CUDA:"
      ],
      "metadata": {
        "id": "f63DBFxdKMqR"
      }
    },
    {
      "cell_type": "code",
      "execution_count": 6,
      "metadata": {
        "colab": {
          "base_uri": "https://localhost:8080/"
        },
        "id": "juGmEOM9FZ5G",
        "outputId": "0c649984-cb56-43f2-a728-16455b7e307a"
      },
      "outputs": [
        {
          "output_type": "stream",
          "name": "stdout",
          "text": [
            "Wykonanie zadania na GPU zajelo: 0.001944 s\n",
            "Można wyświetlić kule naciskając ikonę folderu po lewej stronie, następnie nacisnąć prawym przyciskiem myszy na plik 'RTGPU.ppm', a następnie pobierz. Na komputerze można wyświetlić pliki .ppm np za pomocą programu IrfanView.\n"
          ]
        }
      ],
      "source": [
        "%%cu\n",
        "#include <stdio.h>\n",
        "//tutaj definiujemy rozmiar naszego 'płótna' na jakim chcemy renderować kule.\n",
        "#define DIM 1024\n",
        "//tu definiujemy jak będzie wyglądała funkcja rnd(x)\n",
        "#define rnd( x ) (x * rand() / RAND_MAX)\n",
        "//definicja nieskończoności\n",
        "#define INF 2e10f\n",
        "\n",
        "//struktura która będzie reprezentowała kule\n",
        "//korzysta ze zmiennych kolorów r,g,b i tak są one nazwane w funkcji\n",
        "//tak samo z radius czyli promień kuli i położenie na płaszczyznach\n",
        "//x, y, z. Funkcja hit symuluje odbicie światła.\n",
        "struct Sphere {\n",
        "    float   r,b,g;\n",
        "    float   radius;\n",
        "    float   x,y,z;\n",
        "    __device__ float hit( float ox, float oy, float *n ) {\n",
        "      float dx = ox - x;\n",
        "      float dy = oy - y;\n",
        "      if (dx*dx + dy*dy < radius*radius) {\n",
        "        float dz = sqrtf( radius*radius - dx*dx - dy*dy );\n",
        "        *n = dz / sqrtf( radius * radius );\n",
        "        return dz + z;\n",
        "      }\n",
        "      return -INF;\n",
        "    }\n",
        "};\n",
        "\n",
        "//tutaj definiujemy ile chcemy kul\n",
        "#define SPHERES 20\n",
        "\n",
        "//funkcja __global__ void kernel jest uruchamiana bezpośrednio na GPU\n",
        "//Na każdym wątku GPU będzie wyliczane jaką wartość RGB ma mieć dany piksel\n",
        "//x i y to pozycja wątku w bloku przesunięta o położenie bloku w sieci bloków.\n",
        "//ox i oy to różnica położenia piksela i połowa rozmiaru płótna.\n",
        "//w pętli przechodzi przez wszystkie kule i symuluje odbicie światła (RayTracing).\n",
        "__global__ void kernel( Sphere *s, unsigned char *ptr ) {\n",
        "    // map from threadIdx/BlockIdx to pixel position\n",
        "    int x = threadIdx.x + blockIdx.x * blockDim.x;\n",
        "    int y = threadIdx.y + blockIdx.y * blockDim.y;\n",
        "    int offset = x + y * blockDim.x * gridDim.x;\n",
        "    float   ox = (x - DIM/2);\n",
        "    float   oy = (y - DIM/2);\n",
        "  \n",
        "    float   r=0, g=0, b=0;\n",
        "    float   maxz = -INF;\n",
        "    for(int i=0; i<SPHERES; i++) {\n",
        "        float   n;\n",
        "        float   t = s[i].hit( ox, oy, &n );\n",
        "        if (t > maxz) {\n",
        "          float fscale = n;\n",
        "          r = s[i].r * fscale;\n",
        "          g = s[i].g * fscale;\n",
        "          b = s[i].b * fscale;\n",
        "          maxz = t;\n",
        "        }\n",
        "    } \n",
        "\n",
        "    ptr[offset*4 + 0] = (int)(r * 255);\n",
        "    ptr[offset*4 + 1] = (int)(g * 255);\n",
        "    ptr[offset*4 + 2] = (int)(b * 255);\n",
        "    ptr[offset*4 + 3] = 255;\n",
        "}\n",
        "\n",
        "//Jest tu w celu aby dalej można było zapisać wyniki w postaci pliku.\n",
        "struct DataBlock{\n",
        "    unsigned char *dev_bitmap;\n",
        "};\n",
        "\n",
        "//funkcja zapisująca efekt obliczeń do obrazu w formacie .ppm\n",
        "void save_to_file(unsigned char *ptr){\n",
        "  FILE *fp=fopen(\"RTGPU.ppm\",\"w\");\n",
        "  fprintf(fp,\"P3\\n%d %d\\n255\\n\", DIM, DIM);\n",
        "  for(int y=0;y<DIM;y++){\n",
        "    for(int x=0;x<DIM;x++){\n",
        "      int offset=x+y*DIM;\n",
        "      fprintf(fp,\"\\n%d %d %d\", ptr[offset*4+2], ptr[offset*4+1], ptr[offset*4+0]);\n",
        "    }\n",
        "  }\n",
        "  fclose(fp);\n",
        "}\n",
        "\n",
        "int main(void) {\n",
        "  \n",
        "  //narzędzie CUDA do pomiaru czasu\n",
        "  cudaEvent_t start, stop;\n",
        "  //zainicjowanie zdarzeń start i stop\n",
        "  cudaEventCreate( &start );\n",
        "  cudaEventCreate( &stop);\n",
        "  //linia poniżej zapisuje wydarzenia przy starcie kernela, 0 jest domyślnym strumieniem\n",
        "  cudaEventRecord( start, 0);\n",
        "  \n",
        "  DataBlock data;\n",
        "  unsigned char *bitmap = (unsigned char*)malloc(DIM* DIM*4* sizeof(unsigned char));\n",
        "  int image_size = DIM* DIM*4;\n",
        "  unsigned char *dev_bitmap;\n",
        "  //zarezerwowanie pamięci tablicy bitowej\n",
        "  cudaMalloc((void**)&dev_bitmap, image_size); \n",
        "  data.dev_bitmap=dev_bitmap;\n",
        "  //inicjalizacja tablicy kul \n",
        "  Sphere *s;\n",
        "\n",
        "  //zarezerwowanie pamięci na tablicę kul\n",
        "  cudaMalloc((void**)&s, sizeof(Sphere)* SPHERES );\n",
        "\n",
        "  Sphere *temp_s = (Sphere*)malloc(sizeof(Sphere)* SPHERES );\n",
        "\n",
        "  //towrzenie losowych kul\n",
        "  for (int i=0; i<SPHERES; i++) {\n",
        "    temp_s[i].r = rnd( 1.0f);\n",
        "    temp_s[i].g= rnd( 1.0f);\n",
        "    temp_s[1].b= rnd( 1.0f);\n",
        "    temp_s[i].x =rnd( 1000.0f)- 500;\n",
        "    temp_s[i].y =rnd( 1000.0f) - 500;\n",
        "    temp_s[1].z = rnd( 1000.0f) - 500;\n",
        "    temp_s[i].radius = rnd( 100.0f) + 20;\n",
        "  }\n",
        "\n",
        "//kopiowanie tymczasowych wartości do CPU\n",
        "cudaMemcpy( s, temp_s, sizeof(Sphere)* SPHERES, cudaMemcpyHostToDevice);\n",
        "free( temp_s);\n",
        "\n",
        "dim3 grids(DIM/16,DIM/16);\n",
        "dim3 threads(16,16);\n",
        "\n",
        "kernel<<<grids,threads>>>(s, dev_bitmap);\n",
        "\n",
        "//kopiowanie ostatecznych wartości do CPU\n",
        "cudaMemcpy( bitmap, dev_bitmap, image_size, cudaMemcpyDeviceToHost);\n",
        "\n",
        "//zatrzymanie czasomierza  \n",
        "cudaEventRecord( stop, 0);\n",
        "cudaEventSynchronize(stop);\n",
        "float elapsedTime;  \n",
        "cudaEventElapsedTime(&elapsedTime, start, stop);\n",
        "printf(\"Wykonanie zadania na GPU zajelo: %f s\\nMożna wyświetlić kule naciskając ikonę folderu po lewej stronie, następnie nacisnąć prawym przyciskiem myszy na plik 'RTGPU.ppm', a następnie pobierz. Na komputerze można wyświetlić pliki .ppm np za pomocą programu IrfanView.\", elapsedTime/1000);\n",
        "\n",
        "cudaEventDestroy(start);\n",
        "cudaEventDestroy(stop);\n",
        "\n",
        "\n",
        "save_to_file(bitmap);\n",
        "}"
      ]
    },
    {
      "cell_type": "markdown",
      "source": [
        "0.001849 [1024]\n",
        "0.011758 [2048]\n",
        "0.045851 [4096]"
      ],
      "metadata": {
        "id": "SpqFS_t7w9_q"
      }
    },
    {
      "cell_type": "markdown",
      "source": [
        "Algorytm **Ray Tracing** na CPU z użyciem CUDA:"
      ],
      "metadata": {
        "id": "H0tSrcZgU8bF"
      }
    },
    {
      "cell_type": "code",
      "source": [
        "%%cu\n",
        "#include <stdio.h>\n",
        "//tutaj definiujemy rozmiar naszego 'płótna' na jakim chcemy renderować kule.\n",
        "#define DIM 1024\n",
        "//tu definiujemy jak będzie wyglądała funkcja rnd(x)\n",
        "#define rnd( x ) (x * rand() / RAND_MAX)\n",
        "//definicja nieskończoności\n",
        "#define INF 2e10f\n",
        "\n",
        "//struktura która będzie reprezentowała kule\n",
        "//korzysta ze zmiennych kolorów r,g,b i tak są one nazwane w funkcji\n",
        "//tak samo z radius czyli promień kuli i położenie na płaszczyznach\n",
        "//x, y, z. Funkcja hit symuluje odbicie światła.\n",
        "struct Sphere {\n",
        "    float   r,b,g;\n",
        "    float   radius;\n",
        "    float   x,y,z;\n",
        "    float hit( float ox, float oy, float *n ) {\n",
        "      float dx = ox - x;\n",
        "      float dy = oy - y;\n",
        "      if (dx*dx + dy*dy < radius*radius) {\n",
        "        float dz = sqrtf(radius*radius-dx*dx-dy*dy);\n",
        "        *n = dz / sqrtf(radius*radius);\n",
        "        return dz + z;\n",
        "      }\n",
        "    return -INF;\n",
        "    }\n",
        "};\n",
        "\n",
        "//tutaj definiujemy ile chcemy kul\n",
        "#define SPHERES 20\n",
        "\n",
        "//w odróżnieniu od funkcji na GPU tutaj dodatkowo musimy przekazać\n",
        "//współżędne x i y do wyliczenia. ox i oy to odległość od środka\n",
        "//podobnie jak w wersji GPU. Dla każdej kuli obliczana jest odległość.\n",
        "//od płaszczyzny w której jest piksel tutaj jest to 't' przy\n",
        "//pomocy hit()\n",
        "void cpu_calc( Sphere *s, int x, int y, unsigned char *ptr ) {\n",
        "  int offset = x + y * DIM;\n",
        "  float   ox = (x - DIM/2);\n",
        "  float   oy = (y - DIM/2);                                                                                                    \n",
        "  float   r=0, g=0, b=0;\n",
        "  float   maxz = -INF;\n",
        "  for(int i=0; i<SPHERES; i++) {\n",
        "    float   n;\n",
        "    float   t = s[i].hit( ox, oy, &n );\n",
        "    if (t > maxz) {\n",
        "      float fscale = n;\n",
        "      r = s[i].r * fscale;\n",
        "      g = s[i].g * fscale;\n",
        "      b = s[i].b * fscale;\n",
        "      maxz = t;\n",
        "    }\n",
        "  } \n",
        "\n",
        "  ptr[offset*4 + 0] = (int)(r * 255);\n",
        "  ptr[offset*4 + 1] = (int)(g * 255);\n",
        "  ptr[offset*4 + 2] = (int)(b * 255);\n",
        "  ptr[offset*4 + 3] = 255;\n",
        "}\n",
        "\n",
        "//Jest tu w celu aby dalej można było zapisać wyniki w postaci pliku.\n",
        "struct DataBlock{\n",
        "  unsigned char *dev_bitmap;\n",
        "};\n",
        "\n",
        "//funkcja zapisująca efekt obliczeń do obrazu w formacie .ppm\n",
        "void save_to_file(unsigned char *ptr){\n",
        "  FILE *fp=fopen(\"RTCPU.ppm\",\"w\");\n",
        "  fprintf(fp,\"P3\\n%d %d\\n255\\n\", DIM, DIM);\n",
        "  for(int y=0;y<DIM;y++){\n",
        "    for(int x=0;x<DIM;x++){\n",
        "      int offset=x+y*DIM;\n",
        "      fprintf(fp,\"\\n%d %d %d\", ptr[offset*4+2], ptr[offset*4+1], ptr[offset*4+0]);\n",
        "    }\n",
        "  }\n",
        "  fclose(fp);\n",
        "}\n",
        "\n",
        "int main(void) {                        \n",
        "  //tu inicjujemy zmienne zegara stop i start, jak również zmiennoprzecinkową\n",
        "  //timePass która powie ile czasu ostatecznie zajął proces\n",
        "  clock_t start, stop;\n",
        "  double timePass;\n",
        "  start = clock();\n",
        "  \n",
        "\n",
        "  //tu reszta w sumie podobnie jak w wersji GPU oczywiście poza funkcjami CUDA\n",
        "  DataBlock data;\n",
        "  unsigned char *bitmap = (unsigned char*)malloc(DIM* DIM*4* sizeof(unsigned char));\n",
        "  int image_size = DIM* DIM*4;\n",
        "  Sphere *s;\n",
        "  Sphere *temp_s = (Sphere*)malloc(sizeof(Sphere)* SPHERES );\n",
        "  s = temp_s;\n",
        "  for (int i=0; i<SPHERES; i++) {\n",
        "    temp_s[i].r = rnd( 1.0f);\n",
        "    temp_s[i].g= rnd( 1.0f);\n",
        "    temp_s[1].b= rnd( 1.0f);\n",
        "    temp_s[i].x =rnd( 1000.0f)- 500;\n",
        "    temp_s[i].y =rnd( 1000.0f) - 500;\n",
        "    temp_s[1].z = rnd( 1000.0f) - 500;\n",
        "    temp_s[i].radius = rnd( 100.0f) + 20;\n",
        "  }\n",
        "  \n",
        "  //tu przechodzimy po wszystkich pixelach z obrazu i dla każdego wyliczmy wartości RGB\n",
        "  for(int i=0; i<DIM; i++) {\n",
        "      for(int j=0; j<DIM; j++){\n",
        "          cpu_calc(s, j, i, bitmap);\n",
        "      }\n",
        "  }\n",
        "\n",
        "  stop = clock();\n",
        "  timePass=((double)(stop-start))/CLOCKS_PER_SEC;\n",
        "  printf(\"Wykonanie zadania na GPU zajelo: %f s\\nMożna wyświetlić kule naciskając ikonę folderu po lewej stronie, następnie nacisnąć prawym przyciskiem myszy na plik 'RTCPU.ppm', a następnie pobierz. Na komputerze można wyświetlić pliki .ppm np za pomocą programu IrfanView.\", timePass);\n",
        "  save_to_file(bitmap);\n",
        "}"
      ],
      "metadata": {
        "colab": {
          "base_uri": "https://localhost:8080/"
        },
        "id": "SjSmtNFhkPRb",
        "outputId": "7e0885d7-76ab-401a-aa95-61c14810143d"
      },
      "execution_count": 7,
      "outputs": [
        {
          "output_type": "stream",
          "name": "stdout",
          "text": [
            "Wykonanie zadania na GPU zajelo: 0.287072 s\n",
            "Można wyświetlić kule naciskając ikonę folderu po lewej stronie, następnie nacisnąć prawym przyciskiem myszy na plik 'RTCPU.ppm', a następnie pobierz. Na komputerze można wyświetlić pliki .ppm np za pomocą programu IrfanView.\n"
          ]
        }
      ]
    },
    {
      "cell_type": "markdown",
      "source": [
        "0.273689 s. [1024]\n",
        "\n",
        "0.741025 s. [2048]\n",
        "\n",
        "3.196839 s. [4096]"
      ],
      "metadata": {
        "id": "stlt23NxxjAO"
      }
    },
    {
      "cell_type": "code",
      "source": [
        "import matplotlib.pyplot as plt\n",
        "\n",
        "dims = (1024, 2048, 4096)\n",
        "timeCPU = (0.273689, 0.741025, 3.196839)\n",
        "timeGPU = (0.001849, 0.011758, 0.045851)\n",
        "\n",
        "\n",
        "plt.plot(dims, timeCPU, label='CPU')\n",
        "plt.plot(dims, timeGPU, label='GPU')\n",
        "plt.xlabel(\"Rozmiar DIM\")\n",
        "plt.ylabel(\"Czas w sek.\")\n",
        "plt.title(\"Wykres generowania kul Ray Tracing CPU vs GPU\")\n",
        "plt.legend()\n",
        "plt.show()"
      ],
      "metadata": {
        "colab": {
          "base_uri": "https://localhost:8080/",
          "height": 295
        },
        "id": "qSRHEdIi15_Y",
        "outputId": "5ce937a4-1a40-4450-fbfa-d5b2e1f0a275"
      },
      "execution_count": null,
      "outputs": [
        {
          "output_type": "display_data",
          "data": {
            "text/plain": [
              "<Figure size 432x288 with 1 Axes>"
            ],
            "image/png": "[encoded data removed]"
          },
          "metadata": {
            "needs_background": "light"
          }
        }
      ]
    },
    {
      "cell_type": "markdown",
      "source": [
        "Ray Tracing - czyli śledzenie promieni. Technika renderowania, która stara się realistycznie symulować podążanie promieni światła i generować dokładnie odbicia, cienie, itp. Metoda mimo uproszczonego modelu interakcji światła z otoczeniem daje bardzo dobre rezultaty, jednak ze względu na koszty obliczeniowe przez wiele lat jej wykorzystanie limitowała moc obliczeniowa komputerów. W 2018r. Nvidia wprowadziła na rynek serię GeForce 20, która reklamowana była właśnie pod technologie Ray Tracing/"
      ],
      "metadata": {
        "id": "kS1QJOquSSE-"
      }
    }
  ]
}